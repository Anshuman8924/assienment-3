{
 "cells": [
  {
   "cell_type": "code",
   "execution_count": null,
   "id": "b4c3c91e-56f7-4805-992a-5d9c06c81135",
   "metadata": {},
   "outputs": [],
   "source": [
    "#Q1. Explain with an example each when to use a for loop and a while loop."
   ]
  },
  {
   "cell_type": "code",
   "execution_count": 1,
   "id": "8a240177-0e02-421a-bf0c-af358f5c5fab",
   "metadata": {},
   "outputs": [],
   "source": [
    "#Answer- Use a for loop when you know the loop should execute n times. Use a while loop for\n",
    "# reading a file into a variable. Use a while loop when asking for user input. Use a\n",
    "# while loop when the increment value is nonstandard"
   ]
  },
  {
   "cell_type": "code",
   "execution_count": 1,
   "id": "0afbbef1-2687-4ad2-9b9f-cf73fc3851ca",
   "metadata": {},
   "outputs": [
    {
     "name": "stdout",
     "output_type": "stream",
     "text": [
      "1\n",
      "2\n",
      "3\n",
      "4\n"
     ]
    }
   ],
   "source": [
    "# ex for loop\n",
    "l=[1,2,3,4]\n",
    "for i in l:\n",
    "    print(i)"
   ]
  },
  {
   "cell_type": "code",
   "execution_count": 9,
   "id": "d6083de7-e757-4495-ace6-84c6b00b30ea",
   "metadata": {},
   "outputs": [
    {
     "name": "stdin",
     "output_type": "stream",
     "text": [
      "your max range 5\n"
     ]
    },
    {
     "data": {
      "text/plain": [
       "15"
      ]
     },
     "execution_count": 9,
     "metadata": {},
     "output_type": "execute_result"
    }
   ],
   "source": [
    "# ex while\n",
    "n=int(input('your max range'))\n",
    "summ=0\n",
    "counter=1\n",
    "while counter<=n:\n",
    "    summ=summ+counter\n",
    "    counter=counter+1\n",
    "summ    \n",
    "    "
   ]
  },
  {
   "cell_type": "code",
   "execution_count": 10,
   "id": "316f9f20-1f48-4666-949a-d10f2406674c",
   "metadata": {},
   "outputs": [],
   "source": [
    "#Q2. Write a python program to print the sum and product of the first 10 natural numbers\n",
    "#using for and while loop.\n",
    "        \n",
    "    \n",
    "    "
   ]
  },
  {
   "cell_type": "code",
   "execution_count": 15,
   "id": "9a13360c-5293-40d9-baca-58fec0b6044a",
   "metadata": {},
   "outputs": [
    {
     "data": {
      "text/plain": [
       "55"
      ]
     },
     "execution_count": 15,
     "metadata": {},
     "output_type": "execute_result"
    }
   ],
   "source": [
    "# Answer\n",
    "\n",
    "summ=0\n",
    "counter=1\n",
    "while counter<=10:\n",
    "    summ=summ+counter\n",
    "    counter=counter+1\n",
    "summ    "
   ]
  },
  {
   "cell_type": "code",
   "execution_count": null,
   "id": "b1e02e3a-0998-43cf-9355-01882ce32f59",
   "metadata": {},
   "outputs": [
    {
     "name": "stdin",
     "output_type": "stream",
     "text": [
      "your max range 5\n"
     ]
    }
   ],
   "source": [
    "n=int(input('your max range'))\n",
    "multi=1\n",
    "counter=1\n",
    "while counter<=n:\n",
    "    multi=multi*counter\n",
    "    counter=counter\n",
    "multi    "
   ]
  },
  {
   "cell_type": "code",
   "execution_count": 17,
   "id": "b73f2b05-df4b-4bf2-ba04-0b0f5ddf51d2",
   "metadata": {},
   "outputs": [
    {
     "data": {
      "text/plain": [
       "55"
      ]
     },
     "execution_count": 17,
     "metadata": {},
     "output_type": "execute_result"
    }
   ],
   "source": [
    "summ=0\n",
    "for i in range(11):\n",
    "    summ=summ+i\n",
    "summ    \n",
    "    "
   ]
  },
  {
   "cell_type": "code",
   "execution_count": 1,
   "id": "8ac706a8-44cb-4fc8-b521-16a33f7728fb",
   "metadata": {},
   "outputs": [
    {
     "name": "stdin",
     "output_type": "stream",
     "text": [
      "your max range 5\n"
     ]
    },
    {
     "data": {
      "text/plain": [
       "24"
      ]
     },
     "execution_count": 1,
     "metadata": {},
     "output_type": "execute_result"
    }
   ],
   "source": [
    "  n=int(input('your max range'))\n",
    "multi=1\n",
    "for i in range(1,n):\n",
    "    multi=multi*i\n",
    "multi    \n",
    " \n"
   ]
  },
  {
   "cell_type": "code",
   "execution_count": 2,
   "id": "cbab31fd-80f4-4cc0-8a5f-ccccfa5eddfa",
   "metadata": {},
   "outputs": [],
   "source": [
    "# Q3. Create a python program to compute the electricity bill for a household.\n",
    "\n",
    "#Q4. Create a list of numbers from 1 to 100. Use for loop and while loop to calculate\n",
    "#the cube of each number and if the cube of that number is divisible by 4 or 5 then\n",
    "#number and if the cube of that number is divisible by 4 or 5 then append that number\n",
    "#in a list and print that list.\n",
    "#The per-unit charges in rupees are as follows: For the first 100 units, the user will be\n",
    "#charged Rs. 4.5 per  unit, for the next 100 units, the user will be charged Rs. 6 per\n",
    "#unit, and for the next 100 units, the user will be charged Rs. 10 per unit, After 300      \n",
    "#units and above the user will be charged Rs. 20 per unit.\n",
    "#You are required to take the units of electricity consumed in a month from the user as\n",
    "#input.\n",
    "#Your program must pass this test case: when the unit of electricity consumed by the user\n",
    "#in a month is 310, the total electricity bill should be 2250.\n"
   ]
  },
  {
   "cell_type": "code",
   "execution_count": 1,
   "id": "809c00b2-4557-4f8b-ae39-691cce9139aa",
   "metadata": {},
   "outputs": [
    {
     "name": "stdin",
     "output_type": "stream",
     "text": [
      "your max range 310\n"
     ]
    },
    {
     "name": "stdout",
     "output_type": "stream",
     "text": [
      "2250.0\n"
     ]
    }
   ],
   "source": [
    "n=int(input('your max range'))\n",
    "\n",
    "if n<=100:\n",
    "    bill=n*4.5\n",
    "    print(bill)\n",
    "elif n>100 and n<=200:\n",
    "    bill=(100*4.5)+(n-100)*6\n",
    "    print(bill)\n",
    "elif n>200 and n<=300:\n",
    "    bill=100*4.5+100*6+(n-200)*10\n",
    "    print(bill)\n",
    "elif n>300:\n",
    "    bill= 100*4.5+100*6+100*10+(n-300)*20\n",
    "    print(bill)\n",
    "    "
   ]
  },
  {
   "cell_type": "code",
   "execution_count": null,
   "id": "12025262-704b-4a50-9ffc-40ce3c6c7981",
   "metadata": {},
   "outputs": [],
   "source": [
    "#Q4. Create a list of numbers from 1 to 100. Use for loop and while loop to calculate the\n",
    "#cube of each  number and if the cube of that number is divisible by 4 or 5 then append\n",
    "#that number in a list and print that list.\n",
    "\n"
   ]
  },
  {
   "cell_type": "code",
   "execution_count": 2,
   "id": "486ad098-5336-4395-95af-b5695e2e53f7",
   "metadata": {},
   "outputs": [
    {
     "name": "stdin",
     "output_type": "stream",
     "text": [
      "your max range 5\n"
     ]
    },
    {
     "name": "stdout",
     "output_type": "stream",
     "text": [
      "[8, 64]"
     ]
    }
   ],
   "source": [
    "# using for loop\n",
    "l=[]\n",
    "n=int(input('your max range'))\n",
    "for i in range(1,n):\n",
    "    \n",
    "    a=(i**3) \n",
    "    if a%4==0 or a%5==0:\n",
    "        l.append(a)\n",
    "print(l,end='')        "
   ]
  },
  {
   "cell_type": "code",
   "execution_count": 3,
   "id": "635ee496-2ba8-46a2-85da-9130bc44b0f7",
   "metadata": {},
   "outputs": [
    {
     "name": "stdout",
     "output_type": "stream",
     "text": [
      "[8, 64, 125, 216, 512, 1000, 1728, 2744, 3375, 4096, 5832, 8000, 10648, 13824, 15625, 17576, 21952, 27000, 32768, 39304, 42875, 46656, 54872, 64000, 74088, 85184, 91125, 97336, 110592, 125000, 140608, 157464, 166375, 175616, 195112, 216000, 238328, 262144, 274625, 287496, 314432, 343000, 373248, 405224, 421875, 438976, 474552, 512000, 551368, 592704, 614125, 636056, 681472, 729000, 778688, 830584, 857375, 884736, 941192, 1000000]"
     ]
    }
   ],
   "source": [
    "# using while loop\n",
    "l1=[]\n",
    "count=1\n",
    "while count<=100:\n",
    "    a= count**3\n",
    "    if a%4==0 or a%5==0:\n",
    "        l1.append(a)\n",
    "    count =count+1\n",
    "print(l1,end='')       \n"
   ]
  },
  {
   "cell_type": "code",
   "execution_count": null,
   "id": "c0c654b2-4573-41ff-82c0-d9adc2eb8ea2",
   "metadata": {},
   "outputs": [],
   "source": [
    "#Q5. Write a program to filter count vowels in the below-given string.\n",
    "# string = \"I want to become a data scientist\""
   ]
  },
  {
   "cell_type": "code",
   "execution_count": 4,
   "id": "6afb990a-2398-4e99-b7d5-9fa47a3ef7e3",
   "metadata": {},
   "outputs": [
    {
     "data": {
      "text/plain": [
       "12"
      ]
     },
     "execution_count": 4,
     "metadata": {},
     "output_type": "execute_result"
    }
   ],
   "source": [
    "exa= \"I want to become a data scientist\"\n",
    "a=exa.lower()\n",
    "count=0\n",
    "for i in range(len(a)):\n",
    "    if a[i]=='a'or a[i]=='e' or a[i]=='i' or a[i]=='o' or a[i]=='u':\n",
    "        count=count+1\n",
    "count      "
   ]
  }
 ],
 "metadata": {
  "kernelspec": {
   "display_name": "Python 3 (ipykernel)",
   "language": "python",
   "name": "python3"
  },
  "language_info": {
   "codemirror_mode": {
    "name": "ipython",
    "version": 3
   },
   "file_extension": ".py",
   "mimetype": "text/x-python",
   "name": "python",
   "nbconvert_exporter": "python",
   "pygments_lexer": "ipython3",
   "version": "3.10.8"
  }
 },
 "nbformat": 4,
 "nbformat_minor": 5
}
